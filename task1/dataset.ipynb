{
 "cells": [
  {
   "cell_type": "code",
   "execution_count": 1,
   "metadata": {},
   "outputs": [],
   "source": [
    "import pandas as pd \n",
    "import random"
   ]
  },
  {
   "cell_type": "code",
   "execution_count": 2,
   "metadata": {},
   "outputs": [],
   "source": [
    "knowledge = {\n",
    "    \"competitors\": [\"CompetitorX\", \"CompetitorY\", \"CompetitorZ\"],\n",
    "    \"features\": [\"analytics\", \"AI engine\", \"data pipeline\"],\n",
    "    \"pricing_keywords\": [\"discount\", \"pricing model\", \"budget\"],\n",
    "    \"security_keywords\": [\"SOC2 certified\", \"encryption\"]\n",
    "}"
   ]
  },
  {
   "cell_type": "code",
   "execution_count": 3,
   "metadata": {},
   "outputs": [],
   "source": [
    "def generate_snippet(theme):\n",
    "    if theme == \"Competition\":\n",
    "        return f\"We like your product, but {random.choice(knowledge['competitors'])} offers better {random.choice(knowledge['features'])}.\"\n",
    "    elif theme == \"Pricing Discussion\":\n",
    "        return f\"The {random.choice(knowledge['features'])} looks great, but the {random.choice(knowledge['pricing_keywords'])} is too high.\"\n",
    "    elif theme == \"Security\":\n",
    "        return f\"Is your solution {random.choice(knowledge['security_keywords'])}? Our team is concerned about compliance.\"\n",
    "    elif theme == \"Objection\":\n",
    "        return f\"I’m not sure if {random.choice(knowledge['features'])} solves our use case. We’re still evaluating.\"\n",
    "    return \"\"\n",
    "themes = [\"Competition\", \"Pricing Discussion\", \"Security\", \"Objection\"]\n",
    "data = []\n",
    "for i in range(1, 201):\n",
    "    theme = random.choice(themes)\n",
    "    snippet = generate_snippet(theme)\n",
    "    data.append({\"id\": i, \"text_snippet\": snippet, \"labels\": theme})\n"
   ]
  },
  {
   "cell_type": "code",
   "execution_count": 4,
   "metadata": {},
   "outputs": [],
   "source": [
    "df = pd.DataFrame(data)"
   ]
  },
  {
   "cell_type": "code",
   "execution_count": 5,
   "metadata": {},
   "outputs": [],
   "source": [
    "df.to_csv(\"calls_dataset.csv\", index=False)"
   ]
  },
  {
   "cell_type": "code",
   "execution_count": 6,
   "metadata": {},
   "outputs": [
    {
     "name": "stderr",
     "output_type": "stream",
     "text": [
      "[nltk_data] Downloading package punkt to /home/sreekar-vyas-\n",
      "[nltk_data]     kurudi/nltk_data...\n",
      "[nltk_data]   Package punkt is already up-to-date!\n"
     ]
    },
    {
     "data": {
      "text/plain": [
       "True"
      ]
     },
     "execution_count": 6,
     "metadata": {},
     "output_type": "execute_result"
    }
   ],
   "source": [
    "import nltk\n",
    "from nltk.corpus import wordnet\n",
    "from nltk.tokenize import word_tokenize\n",
    "nltk.download('punkt')"
   ]
  },
  {
   "cell_type": "code",
   "execution_count": 7,
   "metadata": {},
   "outputs": [
    {
     "name": "stdout",
     "output_type": "stream",
     "text": [
      "multiclass dataset created!\n"
     ]
    },
    {
     "name": "stderr",
     "output_type": "stream",
     "text": [
      "[nltk_data] Downloading package wordnet to /home/sreekar-vyas-\n",
      "[nltk_data]     kurudi/nltk_data...\n",
      "[nltk_data]   Package wordnet is already up-to-date!\n",
      "[nltk_data] Downloading package omw-1.4 to /home/sreekar-vyas-\n",
      "[nltk_data]     kurudi/nltk_data...\n",
      "[nltk_data]   Package omw-1.4 is already up-to-date!\n"
     ]
    }
   ],
   "source": [
    "import random\n",
    "nltk.download('wordnet')\n",
    "nltk.download('omw-1.4')\n",
    "\n",
    "\n",
    "knowledge = {\n",
    "    \"competitors\": [\"CompetitorX\", \"CompetitorY\", \"CompetitorZ\", \"TechCorp\", \"MediPlus\"],\n",
    "    \"features\": [\"analytics\", \"AI engine\", \"data pipeline\", \"automation\", \"remote monitoring\"],\n",
    "    \"pricing_keywords\": [\"discount\", \"pricing model\", \"subscription cost\", \"budget\"],\n",
    "    \"security_keywords\": [\"SOC2 certified\", \"data compliance\", \"encryption\", \"privacy policy\"]\n",
    "}\n",
    "\n",
    "def random_swap(text, n=1):\n",
    "    words = word_tokenize(text)\n",
    "    for _ in range(n):\n",
    "        idx1, idx2 = random.sample(range(len(words)), 2)\n",
    "        words[idx1], words[idx2] = words[idx2], words[idx1]\n",
    "    return \" \".join(words)\n",
    "\n",
    "\n",
    "def generate_multiclass_snippet():\n",
    "    snippet = \"\"\n",
    "    labels = set()\n",
    "\n",
    "    if random.random() < 0.5:  \n",
    "        snippet += f\"We like your product, but {random.choice(knowledge['competitors'])} offers better {random.choice(knowledge['features'])}. \"\n",
    "        labels.add(\"Competition\")\n",
    "\n",
    "    if random.random() < 0.5:  \n",
    "        snippet += f\"The {random.choice(knowledge['features'])} looks great, but the {random.choice(knowledge['pricing_keywords'])} is too high. \"\n",
    "        labels.add(\"Pricing Discussion\")\n",
    "\n",
    "    if random.random() < 0.5: \n",
    "        snippet += f\"Is your solution {random.choice(knowledge['security_keywords'])}? Our team is concerned about compliance. \"\n",
    "        labels.add(\"Security\")\n",
    "\n",
    "    if random.random() < 0.5:\n",
    "        snippet += f\"I'm not sure if {random.choice(knowledge['features'])} solves our use case. We're still evaluating. \"\n",
    "        labels.add(\"Objection\")\n",
    "\n",
    "    if not labels:\n",
    "        labels.add(\"Objection\") \n",
    "        snippet += f\"I'm not sure if {random.choice(knowledge['features'])} solves our use case. We're still evaluating.\"\n",
    "\n",
    "\n",
    "    return snippet.strip(), \", \".join(labels)\n",
    "\n",
    "\n",
    "multiclass_data = []\n",
    "for i in range(1, 601): \n",
    "    snippet, labels = generate_multiclass_snippet()\n",
    "    multiclass_data.append({\"id\": i, \"text_snippet\": snippet, \"labels\": labels})\n",
    "for i in range(601, 1201): \n",
    "    snippet, labels = generate_multiclass_snippet()\n",
    "    multiclass_data.append({\"id\": i, \"text_snippet\": snippet, \"labels\": labels})\n",
    "\n",
    "import pandas as pd\n",
    "df2 = pd.DataFrame(multiclass_data)\n",
    "df2.to_csv(\"multiclass_calls_dataset.csv\", index=False)\n",
    "\n",
    "print(\"multiclass dataset created!\")\n"
   ]
  },
  {
   "cell_type": "code",
   "execution_count": 8,
   "metadata": {},
   "outputs": [
    {
     "name": "stdout",
     "output_type": "stream",
     "text": [
      "Dataset updated with 200 random 'rand' labels!\n"
     ]
    }
   ],
   "source": [
    "import pandas as pd\n",
    "import random\n",
    "\n",
    "df3 = pd.read_csv(\"multiclass_calls_dataset.csv\")\n",
    "df3['labels'] = df3['labels'].astype(str)\n",
    "\n",
    "\n",
    "random_indices = random.sample(range(len(df3)), 200)\n",
    "\n",
    "def assign_rand_label(index, labels):\n",
    "    if index in random_indices:\n",
    "        return 'rand' \n",
    "    return labels \n",
    "\n",
    "df3['labels'] = [assign_rand_label(idx, label) for idx, label in enumerate(df3['labels'])]\n",
    "df3.to_csv(\"multiclass_calls_dataset_with_rand.csv\", index=False)\n",
    "\n",
    "print(\"Dataset updated with 200 random 'rand' labels!\")\n"
   ]
  },
  {
   "cell_type": "code",
   "execution_count": null,
   "metadata": {},
   "outputs": [],
   "source": []
  }
 ],
 "metadata": {
  "kernelspec": {
   "display_name": "env",
   "language": "python",
   "name": "python3"
  },
  "language_info": {
   "codemirror_mode": {
    "name": "ipython",
    "version": 3
   },
   "file_extension": ".py",
   "mimetype": "text/x-python",
   "name": "python",
   "nbconvert_exporter": "python",
   "pygments_lexer": "ipython3",
   "version": "3.12.3"
  }
 },
 "nbformat": 4,
 "nbformat_minor": 2
}
