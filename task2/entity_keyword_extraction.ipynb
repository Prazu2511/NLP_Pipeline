{
 "cells": [
  {
   "cell_type": "code",
   "execution_count": 6,
   "metadata": {},
   "outputs": [],
   "source": [
    "import json\n",
    "\n",
    "with open(\"domain_knowledge.json\", \"r\") as file:\n",
    "    domain_knowledge = json.load(file)\n",
    "\n",
    "competitors = domain_knowledge[\"competitors\"]\n",
    "features = domain_knowledge[\"features\"]\n",
    "pricing_keywords = domain_knowledge[\"pricing_keywords\"]\n",
    "security_keywords = domain_knowledge[\"security_keywords\"]\n"
   ]
  },
  {
   "cell_type": "code",
   "execution_count": 7,
   "metadata": {},
   "outputs": [],
   "source": [
    "import re\n",
    "\n",
    "def extract_from_knowledge_base(text):\n",
    "    entities = {\"competitors\": [], \"features\": [], \"pricing_keywords\": [], \"security_keywords\": []}\n",
    "\n",
    "   \n",
    "    for competitor in competitors:\n",
    "        if competitor.lower() in text.lower():\n",
    "            entities[\"competitors\"].append(competitor)\n",
    "    \n",
    "    for feature in features:\n",
    "        if feature.lower() in text.lower():\n",
    "            entities[\"features\"].append(feature)\n",
    "    \n",
    "    for keyword in pricing_keywords:\n",
    "        if keyword.lower() in text.lower():\n",
    "            entities[\"pricing_keywords\"].append(keyword)\n",
    "    \n",
    "    for keyword in security_keywords:\n",
    "        if keyword.lower() in text.lower():\n",
    "            entities[\"security_keywords\"].append(keyword)\n",
    "\n",
    "    return entities\n"
   ]
  },
  {
   "cell_type": "code",
   "execution_count": 8,
   "metadata": {},
   "outputs": [],
   "source": [
    "def extract_with_regex(text):\n",
    "    patterns = [\n",
    "        r\"\\\\b(?:CompetitorX|CompetitorY|CompetitorZ)\\\\b\", \n",
    "        r\"\\\\b(?:analytics|AI engine|data pipeline)\\\\b\",   \n",
    "    ]\n",
    "    matches = []\n",
    "    for pattern in patterns:\n",
    "        matches.extend(re.findall(pattern, text, re.IGNORECASE))\n",
    "    return matches\n",
    "\n"
   ]
  },
  {
   "cell_type": "code",
   "execution_count": 9,
   "metadata": {},
   "outputs": [],
   "source": [
    "def extract_entities(text):\n",
    "\n",
    "    entities_from_kb = extract_from_knowledge_base(text)\n",
    "    \n",
    "\n",
    "    entities_from_regex = extract_with_regex(text)\n",
    "\n",
    "\n",
    "    final_entities = {\n",
    "        \"competitors\": list(set(entities_from_kb[\"competitors\"])),\n",
    "        \"features\": list(set(entities_from_kb[\"features\"])),\n",
    "        \"pricing_keywords\": list(set(entities_from_kb[\"pricing_keywords\"])),\n",
    "        \"security_keywords\": list(set(entities_from_kb[\"security_keywords\"])),\n",
    "        \"other_entities\": [entity[\"entity\"] for entity in entities_from_regex]\n",
    "    }\n",
    "\n",
    "    return final_entities\n"
   ]
  },
  {
   "cell_type": "code",
   "execution_count": 10,
   "metadata": {},
   "outputs": [
    {
     "name": "stdout",
     "output_type": "stream",
     "text": [
      "Entity extraction completed!\n"
     ]
    }
   ],
   "source": [
    "# import pandas as pd\n",
    "# # Load the dataset\n",
    "# df = pd.read_csv(\"../task1/multiclass_calls_dataset_with_rand.csv\")\n",
    "\n",
    "# # Extract entities for each snippet\n",
    "# df[\"extracted_entities\"] = df[\"text_snippet\"].apply(extract_entities)\n",
    "\n",
    "# # Save the results to a new CSV file\n",
    "# df.to_csv(\"extracted_entities_dataset.csv\", index=False)\n",
    "\n",
    "# print(\"Entity extraction completed!\")\n",
    "input_text = input()\n",
    "with open('entities.txt', 'w') as file:\n",
    "    file.write(extract_entities(input_text))\n"
   ]
  },
  {
   "cell_type": "code",
   "execution_count": null,
   "metadata": {},
   "outputs": [],
   "source": []
  }
 ],
 "metadata": {
  "kernelspec": {
   "display_name": "env",
   "language": "python",
   "name": "python3"
  },
  "language_info": {
   "codemirror_mode": {
    "name": "ipython",
    "version": 3
   },
   "file_extension": ".py",
   "mimetype": "text/x-python",
   "name": "python",
   "nbconvert_exporter": "python",
   "pygments_lexer": "ipython3",
   "version": "3.12.3"
  }
 },
 "nbformat": 4,
 "nbformat_minor": 2
}
